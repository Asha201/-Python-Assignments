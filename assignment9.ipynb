{
 "cells": [
  {
   "cell_type": "markdown",
   "id": "d1aa9953",
   "metadata": {},
   "source": [
    "# Assignment 9"
   ]
  },
  {
   "cell_type": "markdown",
   "id": "16dafc5b",
   "metadata": {},
   "source": [
    "# Q1. To what does a relative path refer?"
   ]
  },
  {
   "cell_type": "markdown",
   "id": "9ea2e51a",
   "metadata": {},
   "source": [
    "    The relative path is the path of a file with respect to current working directory (PWD)"
   ]
  },
  {
   "cell_type": "markdown",
   "id": "54204011",
   "metadata": {},
   "source": [
    "# Q2.What does an absolute path start with your operating system?"
   ]
  },
  {
   "cell_type": "markdown",
   "id": "c7480b1b",
   "metadata": {},
   "source": [
    "        An absolute path contains the full set of directories from the root of the file system up to  target file or directory. An absolute path start with the root folder, such as / or C:."
   ]
  },
  {
   "cell_type": "markdown",
   "id": "2d60a4e9",
   "metadata": {},
   "source": [
    "# Q3. What do the functions os.getcwd() and os.chdir() do?"
   ]
  },
  {
   "cell_type": "markdown",
   "id": "337a9525",
   "metadata": {},
   "source": [
    "    getcwd stands for \"get current working directory\". os.getcwd() returns the absolute path of the working directory where Python is currently running as a string str . chdir stands of \"change directory\". os.chdir() method in Python used to change the current working directory to specified path. It takes only a single argument as new directory path."
   ]
  },
  {
   "cell_type": "markdown",
   "id": "5915bca8",
   "metadata": {},
   "source": [
    "# Q4. What are the . and .. folders?"
   ]
  },
  {
   "cell_type": "markdown",
   "id": "27c3daa8",
   "metadata": {},
   "source": [
    "    The . is the current directory, while .. signifies the parent directory."
   ]
  },
  {
   "cell_type": "markdown",
   "id": "cfe8bc22",
   "metadata": {},
   "source": [
    "# Q5. In C:\\bacon\\eggs\\spam.txt, which part is the dir name, and which part is the base name?"
   ]
  },
  {
   "cell_type": "markdown",
   "id": "08ed0da7",
   "metadata": {},
   "source": [
    "    The basename is the final rightmost segment of the file path . In the above path base name is spam.txt. os.path.basename() can be used to extract base name from the path. dir name is th folder name in which file exists. In the above path dir name is C:\\bacon\\eggs . os.path.dirname() can be used to extract dir name form path."
   ]
  },
  {
   "cell_type": "markdown",
   "id": "c95a79fb",
   "metadata": {},
   "source": [
    "# Q6. What are the three “mode” arguments that can be passed to the open() function?"
   ]
  },
  {
   "cell_type": "markdown",
   "id": "081805bb",
   "metadata": {},
   "source": [
    "    mode arguments that can be passed to open () function are: 'r' Open a file for reading. (default) 'w' Open a file for writing. Creates a new file if it does not exist or truncates the file if it exists. 'a' Open for appending at the end of the file without truncating it. Creates a new file if it does not exist. '+' Open a file for updating (reading and writing)\n",
    "\n"
   ]
  },
  {
   "cell_type": "markdown",
   "id": "26260be7",
   "metadata": {},
   "source": [
    "# Q7. What happens if an existing file is opened in write mode?"
   ]
  },
  {
   "cell_type": "markdown",
   "id": "1f7602c2",
   "metadata": {},
   "source": [
    "    When a existing file is opened in write mode, contens which were previously present will be overwritten by new content passed"
   ]
  },
  {
   "cell_type": "markdown",
   "id": "009ff46a",
   "metadata": {},
   "source": [
    "# Q8. How do you tell the difference between read() and readlines()?"
   ]
  },
  {
   "cell_type": "markdown",
   "id": "3b2e085e",
   "metadata": {},
   "source": [
    "    read() reads the entire contents of the file into a string. readline() just reads file till the next line."
   ]
  },
  {
   "cell_type": "markdown",
   "id": "30e86017",
   "metadata": {},
   "source": [
    "# Q9. What data structure does a shelf value resemble?"
   ]
  },
  {
   "cell_type": "markdown",
   "id": "5621fdc8",
   "metadata": {},
   "source": [
    "    A shelf value resembles a dictionary value; it has keys and values, along with keys() and values() methods that work similarly to the dictionary methods of the same names."
   ]
  },
  {
   "cell_type": "markdown",
   "id": "438802e6",
   "metadata": {},
   "source": []
  }
 ],
 "metadata": {
  "kernelspec": {
   "display_name": "Python 3 (ipykernel)",
   "language": "python",
   "name": "python3"
  },
  "language_info": {
   "codemirror_mode": {
    "name": "ipython",
    "version": 3
   },
   "file_extension": ".py",
   "mimetype": "text/x-python",
   "name": "python",
   "nbconvert_exporter": "python",
   "pygments_lexer": "ipython3",
   "version": "3.9.12"
  }
 },
 "nbformat": 4,
 "nbformat_minor": 5
}
