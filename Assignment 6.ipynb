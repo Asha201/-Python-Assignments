{
 "cells": [
  {
   "cell_type": "markdown",
   "id": "c1b4c751",
   "metadata": {},
   "source": [
    "# Assignment 6"
   ]
  },
  {
   "cell_type": "markdown",
   "id": "d4343bd2",
   "metadata": {},
   "source": [
    "# Question 1.\n",
    "What are escape characters, and how do you use them?"
   ]
  },
  {
   "cell_type": "markdown",
   "id": "649eb7ec",
   "metadata": {},
   "source": [
    "Ans. In Python strings, the backslash \"\\\" is a special character, also called the \"escape\" character. It is used in representing certain whitespace characters: \"\\t\" is a tab, \"\\n\" is a newline, and \"\\r\" is a carriage return\n",
    "\n",
    "prefixing a special character with \"\\\" turns it into an ordinary character. This is called \"escaping\". For example, \"\\'\" is the single quote character. 'It\\'s Sunday' therefore is a valid string and equivalent to \"It's Sunday\". Likewise, '\"' can be escaped: \"\\\"hello\\\"\" is a string begins and ends with the literal double quote character. Finally, \"\\\" can be used to escape itself: \"\\\\\" is the literal backslash character."
   ]
  },
  {
   "cell_type": "markdown",
   "id": "a7a02bb0",
   "metadata": {},
   "source": [
    "# Question 2.\n",
    "What do the escape characters n and t stand for?"
   ]
  },
  {
   "cell_type": "markdown",
   "id": "2cb93e83",
   "metadata": {},
   "source": [
    "Ans.  \"\\n\" stands a newline,\n",
    "\"\\t\" stands a tab."
   ]
  },
  {
   "cell_type": "markdown",
   "id": "cd462615",
   "metadata": {},
   "source": [
    "# Question 3.\n",
    "What is the way to include backslash characters in a string?"
   ]
  },
  {
   "cell_type": "markdown",
   "id": "ef3b2d70",
   "metadata": {},
   "source": [
    "Ans.  The \\ escape character will represent a backslash character."
   ]
  },
  {
   "cell_type": "code",
   "execution_count": 3,
   "id": "65a75189",
   "metadata": {},
   "outputs": [
    {
     "name": "stdout",
     "output_type": "stream",
     "text": [
      "It's a backslash \\ in a sentence\n"
     ]
    }
   ],
   "source": [
    "print(\"It's a backslash \\\\ in a sentence\")"
   ]
  },
  {
   "cell_type": "markdown",
   "id": "d779390f",
   "metadata": {},
   "source": [
    "# Question 4.\n",
    "The string \"Howl's Moving Castle\" is a correct value. Why isn't the single quote character in the word Howl's not escaped a problem?"
   ]
  },
  {
   "cell_type": "markdown",
   "id": "170d5320",
   "metadata": {},
   "source": [
    "Ans. The single quote in Howl's is fine because we have used double quotes to mark the beginning and end of the string.\n",
    "If we single quotes to mark the string it shows  error not work ."
   ]
  },
  {
   "cell_type": "code",
   "execution_count": 4,
   "id": "63fc9a92",
   "metadata": {},
   "outputs": [
    {
     "name": "stdout",
     "output_type": "stream",
     "text": [
      "Howl's Moving Castle\n"
     ]
    }
   ],
   "source": [
    "print( \"Howl's Moving Castle\") # using double quote #"
   ]
  },
  {
   "cell_type": "code",
   "execution_count": 5,
   "id": "2cb7a9fd",
   "metadata": {},
   "outputs": [
    {
     "ename": "SyntaxError",
     "evalue": "invalid syntax (1918933712.py, line 1)",
     "output_type": "error",
     "traceback": [
      "\u001b[1;36m  Input \u001b[1;32mIn [5]\u001b[1;36m\u001b[0m\n\u001b[1;33m    print( 'Howl's Moving Castle')\u001b[0m\n\u001b[1;37m                 ^\u001b[0m\n\u001b[1;31mSyntaxError\u001b[0m\u001b[1;31m:\u001b[0m invalid syntax\n"
     ]
    }
   ],
   "source": [
    "print( 'Howl's Moving Castle') # using single quote #"
   ]
  },
  {
   "cell_type": "markdown",
   "id": "3b63bc8a",
   "metadata": {},
   "source": [
    "# Question 5.\n",
    "How do you write a string of newlines if you don't want to use the n character?"
   ]
  },
  {
   "cell_type": "markdown",
   "id": "265f3cbb",
   "metadata": {},
   "source": [
    "Ans.  We can use the parameter end ='\\n' in prinnt function."
   ]
  },
  {
   "cell_type": "code",
   "execution_count": 8,
   "id": "3cfd34d0",
   "metadata": {},
   "outputs": [
    {
     "name": "stdout",
     "output_type": "stream",
     "text": [
      "print something\n",
      "newline\n"
     ]
    }
   ],
   "source": [
    "print('print something', end ='\\n')\n",
    "print(\"newline\")"
   ]
  },
  {
   "cell_type": "markdown",
   "id": "d91fd44b",
   "metadata": {},
   "source": [
    "# Question 6.\n",
    "What are the values of the given expressions?\n",
    "'Hello, world!'[1]\n",
    "'Hello, world!'[0:5]\n",
    "'Hello, world!'[:5]\n",
    "'Hello, world!'[3:]\n"
   ]
  },
  {
   "cell_type": "code",
   "execution_count": 9,
   "id": "85f7bda4",
   "metadata": {},
   "outputs": [
    {
     "data": {
      "text/plain": [
       "'e'"
      ]
     },
     "execution_count": 9,
     "metadata": {},
     "output_type": "execute_result"
    }
   ],
   "source": [
    "# in the string 'e' is 1 place #\n",
    "\n",
    "'Hello, world!'[1] "
   ]
  },
  {
   "cell_type": "code",
   "execution_count": 10,
   "id": "fef7421d",
   "metadata": {},
   "outputs": [
    {
     "data": {
      "text/plain": [
       "'Hello'"
      ]
     },
     "execution_count": 10,
     "metadata": {},
     "output_type": "execute_result"
    }
   ],
   "source": [
    "# in the string stating from 0 to 4 index excluding upper limit \n",
    "\n",
    "'Hello, world!'[0:5] "
   ]
  },
  {
   "cell_type": "code",
   "execution_count": 11,
   "id": "16147967",
   "metadata": {},
   "outputs": [
    {
     "data": {
      "text/plain": [
       "'Hello'"
      ]
     },
     "execution_count": 11,
     "metadata": {},
     "output_type": "execute_result"
    }
   ],
   "source": [
    "# if not specified starting point it takes from 0 #\n",
    "\n",
    "'Hello, world!'[:5]"
   ]
  },
  {
   "cell_type": "code",
   "execution_count": 13,
   "id": "3b9f3a57",
   "metadata": {},
   "outputs": [
    {
     "data": {
      "text/plain": [
       "'lo, world!'"
      ]
     },
     "execution_count": 13,
     "metadata": {},
     "output_type": "execute_result"
    }
   ],
   "source": [
    "#starts from 3rd index to end of the string, upper bound not specified \n",
    "\n",
    "'Hello, world!'[3:]"
   ]
  },
  {
   "cell_type": "markdown",
   "id": "2cc424c3",
   "metadata": {},
   "source": [
    "# Question 7.\n",
    "What are the values of the following expressions?\n",
    "'Hello'.upper()\n",
    "'Hello'.upper().isupper()\n",
    "'Hello'.upper().lower()\n"
   ]
  },
  {
   "cell_type": "code",
   "execution_count": 14,
   "id": "29630f7e",
   "metadata": {},
   "outputs": [
    {
     "data": {
      "text/plain": [
       "'HELLO'"
      ]
     },
     "execution_count": 14,
     "metadata": {},
     "output_type": "execute_result"
    }
   ],
   "source": [
    "'Hello'.upper() # showing in upper case "
   ]
  },
  {
   "cell_type": "code",
   "execution_count": 15,
   "id": "1d4ee545",
   "metadata": {},
   "outputs": [
    {
     "data": {
      "text/plain": [
       "True"
      ]
     },
     "execution_count": 15,
     "metadata": {},
     "output_type": "execute_result"
    }
   ],
   "source": [
    "'Hello'.upper().isupper() # it's true"
   ]
  },
  {
   "cell_type": "code",
   "execution_count": 20,
   "id": "8a5333db",
   "metadata": {},
   "outputs": [
    {
     "data": {
      "text/plain": [
       "'hello'"
      ]
     },
     "execution_count": 20,
     "metadata": {},
     "output_type": "execute_result"
    }
   ],
   "source": [
    "# performing last operation ie string in lower case \n",
    "'Hello'.upper().lower() "
   ]
  },
  {
   "cell_type": "markdown",
   "id": "5be89a7e",
   "metadata": {},
   "source": [
    "# Question 8.\n",
    "What are the values of the following expressions?\n",
    "'Remember, remember, the fifth of July.'.split()\n",
    "'-'.join('There can only one.'.split())\n"
   ]
  },
  {
   "cell_type": "code",
   "execution_count": 21,
   "id": "48572f0d",
   "metadata": {},
   "outputs": [
    {
     "data": {
      "text/plain": [
       "['Remember,', 'remember,', 'the', 'fifth', 'of', 'July.']"
      ]
     },
     "execution_count": 21,
     "metadata": {},
     "output_type": "execute_result"
    }
   ],
   "source": [
    "# Splits with space and returns list of words #\n",
    "'Remember, remember, the fifth of July.'.split()"
   ]
  },
  {
   "cell_type": "code",
   "execution_count": 25,
   "id": "a8238e38",
   "metadata": {},
   "outputs": [
    {
     "data": {
      "text/plain": [
       "'There-can-only-one.'"
      ]
     },
     "execution_count": 25,
     "metadata": {},
     "output_type": "execute_result"
    }
   ],
   "source": [
    "# Splits with space and jion with '-'\n",
    "'-'.join('There can only one.'.split())"
   ]
  },
  {
   "cell_type": "markdown",
   "id": "989f011d",
   "metadata": {},
   "source": [
    "# Question 9.\n",
    "What are the methods for right-justifying, left-justifying, and centering a string?"
   ]
  },
  {
   "cell_type": "markdown",
   "id": "da466b18",
   "metadata": {},
   "source": [
    "The following methods are used for justifying strings\n",
    "\n",
    "ljust()  \n",
    "\n",
    "rjust()\n",
    "\n",
    "center()"
   ]
  },
  {
   "cell_type": "code",
   "execution_count": 27,
   "id": "66aab584",
   "metadata": {},
   "outputs": [
    {
     "data": {
      "text/plain": [
       "'Hello-----'"
      ]
     },
     "execution_count": 27,
     "metadata": {},
     "output_type": "execute_result"
    }
   ],
   "source": [
    "# left justified\n",
    "s =\"Hello\"\n",
    "s.ljust(10,\"-\")"
   ]
  },
  {
   "cell_type": "code",
   "execution_count": 28,
   "id": "bfd3c6b8",
   "metadata": {},
   "outputs": [
    {
     "data": {
      "text/plain": [
       "'*****Hello'"
      ]
     },
     "execution_count": 28,
     "metadata": {},
     "output_type": "execute_result"
    }
   ],
   "source": [
    "# right justified\n",
    "s =\"Hello\"\n",
    "s.rjust(10,'*')"
   ]
  },
  {
   "cell_type": "code",
   "execution_count": 29,
   "id": "994ed8d1",
   "metadata": {},
   "outputs": [
    {
     "data": {
      "text/plain": [
       "'**Hello***'"
      ]
     },
     "execution_count": 29,
     "metadata": {},
     "output_type": "execute_result"
    }
   ],
   "source": [
    "# center justified\n",
    "s =\"Hello\"\n",
    "s.center(10,'*')"
   ]
  },
  {
   "cell_type": "markdown",
   "id": "84705e78",
   "metadata": {},
   "source": [
    " # Question 10.\n",
    " What is the best way to remove whitespace characters from the start or end?"
   ]
  },
  {
   "cell_type": "markdown",
   "id": "4a4b7fd4",
   "metadata": {},
   "source": [
    "lstrip()  removes white spaces from left of the string.\n",
    "\n",
    "rstrip()  removes whitespaces from right of the string."
   ]
  },
  {
   "cell_type": "code",
   "execution_count": 30,
   "id": "5dbf5dc9",
   "metadata": {},
   "outputs": [
    {
     "data": {
      "text/plain": [
       "'How are you         '"
      ]
     },
     "execution_count": 30,
     "metadata": {},
     "output_type": "execute_result"
    }
   ],
   "source": [
    "s = \"       How are you         \"\n",
    "s. lstrip()"
   ]
  },
  {
   "cell_type": "code",
   "execution_count": 31,
   "id": "28af6d4e",
   "metadata": {},
   "outputs": [
    {
     "data": {
      "text/plain": [
       "'       How are you'"
      ]
     },
     "execution_count": 31,
     "metadata": {},
     "output_type": "execute_result"
    }
   ],
   "source": [
    "s = \"       How are you         \"\n",
    "s.rstrip()"
   ]
  }
 ],
 "metadata": {
  "kernelspec": {
   "display_name": "Python 3 (ipykernel)",
   "language": "python",
   "name": "python3"
  },
  "language_info": {
   "codemirror_mode": {
    "name": "ipython",
    "version": 3
   },
   "file_extension": ".py",
   "mimetype": "text/x-python",
   "name": "python",
   "nbconvert_exporter": "python",
   "pygments_lexer": "ipython3",
   "version": "3.9.12"
  }
 },
 "nbformat": 4,
 "nbformat_minor": 5
}
