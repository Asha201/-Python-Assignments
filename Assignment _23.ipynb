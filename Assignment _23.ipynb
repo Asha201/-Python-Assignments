{
 "cells": [
  {
   "cell_type": "markdown",
   "id": "7f71d84d",
   "metadata": {},
   "source": [
    "# Assignment 23"
   ]
  },
  {
   "cell_type": "markdown",
   "id": "de181099",
   "metadata": {},
   "source": [
    "### 1. What is the result of the code, and why?"
   ]
  },
  {
   "cell_type": "markdown",
   "id": "6055f7c6",
   "metadata": {},
   "source": [
    ">>> def func(a, b=6, c=8):\n",
    "print(a, b, c)\n",
    ">>> func(1, 2)"
   ]
  },
  {
   "cell_type": "markdown",
   "id": "8b61ffb8",
   "metadata": {},
   "source": [
    "Ans: The result of the above code is 1 2 8. It is because the function uses the default value of c i.e 8 which is provided at the time of declaration. We can see this below:"
   ]
  },
  {
   "cell_type": "code",
   "execution_count": 1,
   "id": "c3975e0a",
   "metadata": {},
   "outputs": [
    {
     "name": "stdout",
     "output_type": "stream",
     "text": [
      "1 2 8\n"
     ]
    }
   ],
   "source": [
    "def func(a,b=6,c=8):\n",
    "    print(a,b,c)\n",
    "func(1,2)"
   ]
  },
  {
   "cell_type": "markdown",
   "id": "e30f960e",
   "metadata": {},
   "source": [
    "### 2. What is the result of this code, and why?"
   ]
  },
  {
   "cell_type": "markdown",
   "id": "67b175f7",
   "metadata": {},
   "source": [
    ">>> def func(a, b, c=5):\n",
    "print(a, b, c)\n",
    ">>> func(1, c=3, b=2"
   ]
  },
  {
   "cell_type": "markdown",
   "id": "dc63fadb",
   "metadata": {},
   "source": [
    "Ans: The result of the above code is 1 2 3. It is because the function will use default values only when a value for a argument is not provided and if the argument name is mentioned while doing a function call, the order of arguments is also ignored by the python interpreter"
   ]
  },
  {
   "cell_type": "code",
   "execution_count": 2,
   "id": "7275ea78",
   "metadata": {},
   "outputs": [
    {
     "name": "stdout",
     "output_type": "stream",
     "text": [
      "1 2 3\n"
     ]
    }
   ],
   "source": [
    "def func(a,b,c=5):\n",
    "    print(a,b,c)\n",
    "func(1,c=3,b=2)"
   ]
  },
  {
   "cell_type": "markdown",
   "id": "4569d915",
   "metadata": {},
   "source": [
    "### 3. How about this code: what is its result, and why?"
   ]
  },
  {
   "cell_type": "markdown",
   "id": "a2480196",
   "metadata": {},
   "source": [
    ">>> def func(a, *pargs):\n",
    "print(a, pargs)\n",
    ">>> func(1, 2, 3)"
   ]
  },
  {
   "cell_type": "markdown",
   "id": "f7880c7e",
   "metadata": {},
   "source": [
    "Ans: The result of the code is 1 (2,3). *pargs stands for variable length arguments. This format is used when we are not sure about the number of arguments to be passed to a function. All the values under this argument will be stored in a tuple."
   ]
  },
  {
   "cell_type": "code",
   "execution_count": 3,
   "id": "d0bea8bc",
   "metadata": {},
   "outputs": [
    {
     "name": "stdout",
     "output_type": "stream",
     "text": [
      "1 (2, 3)\n"
     ]
    }
   ],
   "source": [
    "def func(a, *pargs):\n",
    "    print(a,pargs)\n",
    "func(1,2,3)"
   ]
  },
  {
   "cell_type": "markdown",
   "id": "691f14d0",
   "metadata": {},
   "source": [
    "### 4. What does this code print, and why?"
   ]
  },
  {
   "cell_type": "markdown",
   "id": "f8103c91",
   "metadata": {},
   "source": [
    " >>> def func(a, **kargs):\n",
    "print(a, kargs)\n",
    ">>> func(a=1, c=3, b=2)"
   ]
  },
  {
   "cell_type": "markdown",
   "id": "6262020c",
   "metadata": {},
   "source": [
    "Ans: The result of the above code is 1 {'c': 3, 'b': 2}. **args stands for variable length keyword arguments. This format is used when we want pass key value pairs as input to a function. All these key value pairs will be stored in a dictionar"
   ]
  },
  {
   "cell_type": "code",
   "execution_count": 4,
   "id": "11e56f20",
   "metadata": {},
   "outputs": [
    {
     "name": "stdout",
     "output_type": "stream",
     "text": [
      "1 {'c': 3, 'b': 2}\n"
     ]
    }
   ],
   "source": [
    "def func(a,**kargs):\n",
    "    print(a,kargs)\n",
    "func(a=1,c=3,b=2)"
   ]
  },
  {
   "cell_type": "markdown",
   "id": "d88fdccb",
   "metadata": {},
   "source": [
    "### 5. What gets printed by this, and explain?"
   ]
  },
  {
   "cell_type": "markdown",
   "id": "11535cbf",
   "metadata": {},
   "source": [
    ">>> def func(a, b, c): a = 2; b[0] = 'x'; c['a'] = 'y'\n",
    ">>> l=1; m=[1]; n={'a':0}\n",
    ">>> func(l, m, n)\n",
    ">>> l, m, n"
   ]
  },
  {
   "cell_type": "markdown",
   "id": "a202a383",
   "metadata": {},
   "source": [
    "Ans: The output of above code is 1, ['x'], {'a': 'y'}.\n",
    "\n",
    "1. Even though Python gives importance to indentation, it provides a facility to declare an entire function in one single line where statements in a function body are sepereated by ;\n",
    "2. When l,m,n are provided as inputs to the function, it modifies the values of l,m,n and sets the value of l=2 ,m=['x'] and n={'a':'y'}"
   ]
  },
  {
   "cell_type": "code",
   "execution_count": 5,
   "id": "786b6b17",
   "metadata": {},
   "outputs": [
    {
     "data": {
      "text/plain": [
       "(1, ['x'], {'a': 'y'})"
      ]
     },
     "execution_count": 5,
     "metadata": {},
     "output_type": "execute_result"
    }
   ],
   "source": [
    "def func(a, b, c): a = 2; b[0] = 'x'; c['a'] = 'y'\n",
    "l=1; m=[1]; n={'a':0}\n",
    "func(l, m, n)\n",
    "l,m,n"
   ]
  },
  {
   "cell_type": "code",
   "execution_count": null,
   "id": "88325a46",
   "metadata": {},
   "outputs": [],
   "source": []
  }
 ],
 "metadata": {
  "kernelspec": {
   "display_name": "Python 3 (ipykernel)",
   "language": "python",
   "name": "python3"
  },
  "language_info": {
   "codemirror_mode": {
    "name": "ipython",
    "version": 3
   },
   "file_extension": ".py",
   "mimetype": "text/x-python",
   "name": "python",
   "nbconvert_exporter": "python",
   "pygments_lexer": "ipython3",
   "version": "3.9.12"
  }
 },
 "nbformat": 4,
 "nbformat_minor": 5
}
