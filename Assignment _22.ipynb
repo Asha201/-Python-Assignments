{
 "cells": [
  {
   "cell_type": "markdown",
   "id": "0378622d",
   "metadata": {},
   "source": [
    "# Assignment 22"
   ]
  },
  {
   "cell_type": "markdown",
   "id": "00198747",
   "metadata": {},
   "source": [
    "1. What is the result of the code, and explain?\n"
   ]
  },
  {
   "cell_type": "markdown",
   "id": "37fc4c34",
   "metadata": {},
   "source": [
    ">>>X='iNeuron'\n",
    ">>>def func():\n",
    "print(X)\n",
    ">>>func()\n"
   ]
  },
  {
   "cell_type": "markdown",
   "id": "61a72c9f",
   "metadata": {},
   "source": [
    "Ans: The Result of this code is iNeuron. it is because the function intially looks for the variable X in its local scope but since there is no local variable X, it returns the value of global variable X i.e iNeuron. Please find the output below:"
   ]
  },
  {
   "cell_type": "code",
   "execution_count": 2,
   "id": "c6b55a64",
   "metadata": {},
   "outputs": [
    {
     "name": "stdout",
     "output_type": "stream",
     "text": [
      "iNeuron\n"
     ]
    }
   ],
   "source": [
    "X = 'iNeuron'\n",
    "def func():\n",
    "    print(X)\n",
    "func()"
   ]
  },
  {
   "cell_type": "markdown",
   "id": "5e27cbce",
   "metadata": {},
   "source": [
    "2. What is the result of the code, and explain?\n"
   ]
  },
  {
   "cell_type": "markdown",
   "id": "37517473",
   "metadata": {},
   "source": [
    ">>> X = 'iNeuron'\n",
    ">>> def func():\n",
    "X = 'NI!'\n",
    ">>> func()\n",
    ">>> print(X)"
   ]
  },
  {
   "cell_type": "markdown",
   "id": "d4a4f013",
   "metadata": {},
   "source": [
    "Ans: The Result of this code is NI! because the function initially looks for the variable X in its local scope. If X is not available, then it checks for variable X in the global scope. Since here the X is present in the local scope, it directly prints the value NI! and does not look for a variable in global scope."
   ]
  },
  {
   "cell_type": "code",
   "execution_count": 3,
   "id": "ad065bc0",
   "metadata": {},
   "outputs": [
    {
     "name": "stdout",
     "output_type": "stream",
     "text": [
      "NI!\n"
     ]
    }
   ],
   "source": [
    "X = 'iNeuron'\n",
    "def func():\n",
    "    X = 'NI!'\n",
    "    print(X)\n",
    "func()"
   ]
  },
  {
   "cell_type": "markdown",
   "id": "4ef14cd8",
   "metadata": {},
   "source": [
    "3. What does this code print, and why?"
   ]
  },
  {
   "cell_type": "markdown",
   "id": "8c176275",
   "metadata": {},
   "source": [
    ">>> X = 'iNeuron'\n",
    ">>> def func():\n",
    "X = 'NI'\n",
    "print(X)\n",
    ">>> func()\n",
    ">>> print(X)"
   ]
  },
  {
   "cell_type": "markdown",
   "id": "1a84e3ba",
   "metadata": {},
   "source": [
    "ns: The output of the code is NI and iNeuron. X=NI is in the local scope of the function func(). Hence the function prints the x value as NI. X = 'iNeuron' is in the global scope. Hence print(X) prints output as iNeuron"
   ]
  },
  {
   "cell_type": "code",
   "execution_count": 5,
   "id": "88429394",
   "metadata": {},
   "outputs": [
    {
     "name": "stdout",
     "output_type": "stream",
     "text": [
      "NI\n",
      "iNeuron\n"
     ]
    }
   ],
   "source": [
    "X = 'iNeuron'\n",
    "def func():\n",
    "    X = 'NI'\n",
    "    print(X)\n",
    "func()\n",
    "print(X)"
   ]
  },
  {
   "cell_type": "markdown",
   "id": "c3b727e5",
   "metadata": {},
   "source": [
    "4. What output does this code produce? Why?"
   ]
  },
  {
   "cell_type": "markdown",
   "id": "f574559b",
   "metadata": {},
   "source": [
    ">>> X = 'iNeuron'\n",
    ">>> def func():\n",
    "global X\n",
    "X = 'NI'\n",
    ">>> func()\n",
    ">>> print(X)"
   ]
  },
  {
   "cell_type": "markdown",
   "id": "45b8e8b9",
   "metadata": {},
   "source": [
    "Ans: The output of the code is NI. The global keyword allows a variable to be accessible in the current scope. Since we are using global keyword inside the function func, it directly accesses the variable in X in global scope and changes its value to NI. Hence the output of the code is NI as shown below."
   ]
  },
  {
   "cell_type": "code",
   "execution_count": 6,
   "id": "a3ffa5a4",
   "metadata": {},
   "outputs": [
    {
     "name": "stdout",
     "output_type": "stream",
     "text": [
      "NI\n"
     ]
    }
   ],
   "source": [
    "X = 'iNeuron'\n",
    "def func():\n",
    "    global X\n",
    "    X = 'NI'\n",
    "func()\n",
    "print(X)"
   ]
  },
  {
   "cell_type": "markdown",
   "id": "1f230c20",
   "metadata": {},
   "source": [
    "5. What about this code—what’s the output, and why?"
   ]
  },
  {
   "cell_type": "markdown",
   "id": "a864ac93",
   "metadata": {},
   "source": [
    ">>> X = 'iNeuron'\n",
    ">>> def func():\n",
    "X = 'NI'\n",
    "def nested():\n",
    "print(X)\n",
    "nested()\n",
    ">>> func()\n",
    ">>> X"
   ]
  },
  {
   "cell_type": "markdown",
   "id": "0819cb2b",
   "metadata": {},
   "source": [
    "Ans: The output of the code is NI and iNeuron. Output of func() is 'NI' because it has a variable X as 'NI' in its local scope whereas Output of X is 'iNeuron' because it refers to variable X that is having global scope instead of referring to a variable having a local scope in a function."
   ]
  },
  {
   "cell_type": "code",
   "execution_count": 7,
   "id": "2c542dc2",
   "metadata": {},
   "outputs": [
    {
     "name": "stdout",
     "output_type": "stream",
     "text": [
      "NI\n"
     ]
    },
    {
     "data": {
      "text/plain": [
       "'iNeuron'"
      ]
     },
     "execution_count": 7,
     "metadata": {},
     "output_type": "execute_result"
    }
   ],
   "source": [
    "X = 'iNeuron'\n",
    "def func():\n",
    "    X = 'NI'\n",
    "    def nested():\n",
    "        print(X)\n",
    "    nested()\n",
    "func()\n",
    "X"
   ]
  },
  {
   "cell_type": "markdown",
   "id": "df0b3d8e",
   "metadata": {},
   "source": [
    "6. How about this code: what is its output in Python 3, and explain?"
   ]
  },
  {
   "cell_type": "markdown",
   "id": "ce6e78bf",
   "metadata": {},
   "source": [
    ">>> def func():\n",
    "X = 'NI'\n",
    "def nested():\n",
    "nonlocal X\n",
    "X = 'Spam'\n",
    "nested()\n",
    "print(X)\n",
    ">>> func()"
   ]
  },
  {
   "cell_type": "markdown",
   "id": "a52f1029",
   "metadata": {},
   "source": [
    "Ans: The output of the code is Spam. nonlocal keyword in python is used to declare a variable as not local.Hence the statement X = \"Spam\" is modified in the global scope. Hence the output of print(X) statement is Spam"
   ]
  },
  {
   "cell_type": "code",
   "execution_count": 8,
   "id": "bf1c9ae6",
   "metadata": {},
   "outputs": [
    {
     "name": "stdout",
     "output_type": "stream",
     "text": [
      "Spam\n"
     ]
    }
   ],
   "source": [
    "def func():\n",
    "    X = 'NI'\n",
    "    def nested():\n",
    "        nonlocal X\n",
    "        X = 'Spam'\n",
    "    nested()\n",
    "    print(X)\n",
    "func()"
   ]
  },
  {
   "cell_type": "code",
   "execution_count": null,
   "id": "eba97ed6",
   "metadata": {},
   "outputs": [],
   "source": []
  }
 ],
 "metadata": {
  "kernelspec": {
   "display_name": "Python 3 (ipykernel)",
   "language": "python",
   "name": "python3"
  },
  "language_info": {
   "codemirror_mode": {
    "name": "ipython",
    "version": 3
   },
   "file_extension": ".py",
   "mimetype": "text/x-python",
   "name": "python",
   "nbconvert_exporter": "python",
   "pygments_lexer": "ipython3",
   "version": "3.9.12"
  }
 },
 "nbformat": 4,
 "nbformat_minor": 5
}
