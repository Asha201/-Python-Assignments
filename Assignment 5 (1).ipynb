{
 "cells": [
  {
   "cell_type": "markdown",
   "id": "b2baf08b",
   "metadata": {},
   "source": [
    "# Assignment 5 #"
   ]
  },
  {
   "cell_type": "markdown",
   "id": "78a6e178",
   "metadata": {},
   "source": [
    "# Question 1.\n",
    "What does an empty dictionary's code look like?"
   ]
  },
  {
   "cell_type": "code",
   "execution_count": 1,
   "id": "f92113af",
   "metadata": {},
   "outputs": [
    {
     "data": {
      "text/plain": [
       "dict"
      ]
     },
     "execution_count": 1,
     "metadata": {},
     "output_type": "execute_result"
    }
   ],
   "source": [
    "dict = {}\n",
    "type(dict)"
   ]
  },
  {
   "cell_type": "markdown",
   "id": "18a8459e",
   "metadata": {},
   "source": [
    "# Question 2.\n",
    "What is the value of a dictionary value with the key 'foo' and the value 42?"
   ]
  },
  {
   "cell_type": "code",
   "execution_count": 4,
   "id": "e4b7f989",
   "metadata": {},
   "outputs": [
    {
     "data": {
      "text/plain": [
       "{'foo': 42}"
      ]
     },
     "execution_count": 4,
     "metadata": {},
     "output_type": "execute_result"
    }
   ],
   "source": [
    "{'foo' : 42}"
   ]
  },
  {
   "cell_type": "markdown",
   "id": "0edec891",
   "metadata": {},
   "source": [
    "# Question 3.\n",
    "3. What is the most significant distinction between a dictionary and a list?"
   ]
  },
  {
   "cell_type": "code",
   "execution_count": null,
   "id": "3eef57f6",
   "metadata": {},
   "outputs": [],
   "source": [
    "Most significant difference:\n",
    "    List - items in list are Ordered\n",
    "    Dictionary : iten in dictionary are unordered  "
   ]
  },
  {
   "cell_type": "markdown",
   "id": "7182ad89",
   "metadata": {},
   "source": [
    "# Question 4.\n",
    "What happens if you try to access spam['foo'] if spam is {'bar': 100}?"
   ]
  },
  {
   "cell_type": "code",
   "execution_count": 5,
   "id": "ba83fe59",
   "metadata": {},
   "outputs": [
    {
     "ename": "KeyError",
     "evalue": "'foo'",
     "output_type": "error",
     "traceback": [
      "\u001b[1;31m---------------------------------------------------------------------------\u001b[0m",
      "\u001b[1;31mKeyError\u001b[0m                                  Traceback (most recent call last)",
      "Input \u001b[1;32mIn [5]\u001b[0m, in \u001b[0;36m<cell line: 2>\u001b[1;34m()\u001b[0m\n\u001b[0;32m      1\u001b[0m spam \u001b[38;5;241m=\u001b[39m {\u001b[38;5;124m'\u001b[39m\u001b[38;5;124mbar\u001b[39m\u001b[38;5;124m'\u001b[39m:\u001b[38;5;241m100\u001b[39m}\n\u001b[1;32m----> 2\u001b[0m \u001b[43mspam\u001b[49m\u001b[43m[\u001b[49m\u001b[38;5;124;43m'\u001b[39;49m\u001b[38;5;124;43mfoo\u001b[39;49m\u001b[38;5;124;43m'\u001b[39;49m\u001b[43m]\u001b[49m\n",
      "\u001b[1;31mKeyError\u001b[0m: 'foo'"
     ]
    }
   ],
   "source": [
    "spam = {'bar':100}\n",
    "spam['foo'] \n",
    "# This shows KeyError #"
   ]
  },
  {
   "cell_type": "markdown",
   "id": "8e69bf4f",
   "metadata": {},
   "source": [
    "# Question 5.\n",
    " If a dictionary is stored in spam, what is the difference between the expressions 'cat' in spam and 'cat' in spam.keys()?"
   ]
  },
  {
   "cell_type": "markdown",
   "id": "847d33e1",
   "metadata": {},
   "source": [
    "There is no differnce between the expression\n",
    "Both check if 'cat' is key of the dictionary and if its a key, returns True."
   ]
  },
  {
   "cell_type": "code",
   "execution_count": 6,
   "id": "e8de2c7f",
   "metadata": {},
   "outputs": [
    {
     "data": {
      "text/plain": [
       "True"
      ]
     },
     "execution_count": 6,
     "metadata": {},
     "output_type": "execute_result"
    }
   ],
   "source": [
    "spam ={'cat':100}\n",
    "'cat' in spam"
   ]
  },
  {
   "cell_type": "code",
   "execution_count": 8,
   "id": "0b9036f6",
   "metadata": {},
   "outputs": [
    {
     "data": {
      "text/plain": [
       "True"
      ]
     },
     "execution_count": 8,
     "metadata": {},
     "output_type": "execute_result"
    }
   ],
   "source": [
    "'cat' in spam.keys()"
   ]
  },
  {
   "cell_type": "markdown",
   "id": "3d9ac8f7",
   "metadata": {},
   "source": [
    "# Question 6.\n",
    "6. If a dictionary is stored in spam, what is the difference between the expressions 'cat' in spam and 'cat' in spam.values()?"
   ]
  },
  {
   "cell_type": "markdown",
   "id": "34b77e9d",
   "metadata": {},
   "source": [
    "'cat' in spam checks whether there is a 'cat' key in the dictionary.\n",
    "'cat' in spam.values() checks whether there is a value 'cat' for one of the keys in spam."
   ]
  },
  {
   "cell_type": "code",
   "execution_count": 9,
   "id": "585cb23d",
   "metadata": {},
   "outputs": [
    {
     "data": {
      "text/plain": [
       "True"
      ]
     },
     "execution_count": 9,
     "metadata": {},
     "output_type": "execute_result"
    }
   ],
   "source": [
    "spam = {'cat':100}\n",
    "'cat' in spam"
   ]
  },
  {
   "cell_type": "code",
   "execution_count": 10,
   "id": "43c251ed",
   "metadata": {},
   "outputs": [
    {
     "data": {
      "text/plain": [
       "False"
      ]
     },
     "execution_count": 10,
     "metadata": {},
     "output_type": "execute_result"
    }
   ],
   "source": [
    "spam = {'cat':100}\n",
    "'cat' in spam.values()"
   ]
  },
  {
   "cell_type": "markdown",
   "id": "86e4f663",
   "metadata": {},
   "source": [
    "# Question 7.\n",
    "7. What is a shortcut for the following code?\n",
    "if 'color' not in spam:\n",
    "spam['color'] = 'black'\n"
   ]
  },
  {
   "cell_type": "markdown",
   "id": "b11af2c6",
   "metadata": {},
   "source": [
    " This can be achieved by using setdefault() which Inserts key with a value of default if key is not in the dictionary."
   ]
  },
  {
   "cell_type": "code",
   "execution_count": 11,
   "id": "5cc15cf6",
   "metadata": {},
   "outputs": [
    {
     "data": {
      "text/plain": [
       "{'cat': 100, 'color': 'black'}"
      ]
     },
     "execution_count": 11,
     "metadata": {},
     "output_type": "execute_result"
    }
   ],
   "source": [
    "spam ={'cat':100}\n",
    "spam.setdefault('color','black')\n",
    "spam"
   ]
  },
  {
   "cell_type": "markdown",
   "id": "e7ae98cf",
   "metadata": {},
   "source": [
    "# Question 8.\n",
    " How do you \"pretty print\" dictionary values using which module and function?"
   ]
  },
  {
   "cell_type": "markdown",
   "id": "a9dd45c9",
   "metadata": {},
   "source": [
    "Pretty printing means to present something in a more readable format \n",
    "Within the pprint module there is a function with the same name pprint (), which is the function used to pretty-print the given string or object. First, declare an array of dictionaries. Afterward, pretty print it using the function pprint.pprint ()."
   ]
  },
  {
   "cell_type": "code",
   "execution_count": 17,
   "id": "90690bf3",
   "metadata": {},
   "outputs": [],
   "source": [
    "import pprint"
   ]
  },
  {
   "cell_type": "code",
   "execution_count": 13,
   "id": "2f727f18",
   "metadata": {},
   "outputs": [],
   "source": [
    "arry = [{'Name':'Jhon','Standard':'5A','Maks':'500',\"Result\":'Pass'},\n",
    "       { 'Name':'Sita','Standard':'8C','Maks':'689',\"Result\":'Pass'},\n",
    "        {'Name':'Robert','Standard':'6B','Maks':'300',\"Result\":'Fail'}]"
   ]
  },
  {
   "cell_type": "code",
   "execution_count": 20,
   "id": "013c9da9",
   "metadata": {},
   "outputs": [
    {
     "name": "stdout",
     "output_type": "stream",
     "text": [
      "[{'Name': 'Jhon', 'Standard': '5A', 'Maks': '500', 'Result': 'Pass'}, {'Name': 'Sita', 'Standard': '8C', 'Maks': '689', 'Result': 'Pass'}, {'Name': 'Robert', 'Standard': '6B', 'Maks': '300', 'Result': 'Fail'}]\n"
     ]
    }
   ],
   "source": [
    "# using print function #\n",
    "print(arry) # Output is not properly indented difficult to read the data#\n"
   ]
  },
  {
   "cell_type": "code",
   "execution_count": 18,
   "id": "2a1ec89e",
   "metadata": {},
   "outputs": [
    {
     "name": "stdout",
     "output_type": "stream",
     "text": [
      "[{'Maks': '500', 'Name': 'Jhon', 'Result': 'Pass', 'Standard': '5A'},\n",
      " {'Maks': '689', 'Name': 'Sita', 'Result': 'Pass', 'Standard': '8C'},\n",
      " {'Maks': '300', 'Name': 'Robert', 'Result': 'Fail', 'Standard': '6B'}]\n"
     ]
    }
   ],
   "source": [
    "# using pretty print function #\n",
    "pprint.pprint(arry) #Output is well formated much more readable #"
   ]
  },
  {
   "cell_type": "code",
   "execution_count": null,
   "id": "54d69f49",
   "metadata": {},
   "outputs": [],
   "source": []
  }
 ],
 "metadata": {
  "kernelspec": {
   "display_name": "Python 3 (ipykernel)",
   "language": "python",
   "name": "python3"
  },
  "language_info": {
   "codemirror_mode": {
    "name": "ipython",
    "version": 3
   },
   "file_extension": ".py",
   "mimetype": "text/x-python",
   "name": "python",
   "nbconvert_exporter": "python",
   "pygments_lexer": "ipython3",
   "version": "3.9.12"
  }
 },
 "nbformat": 4,
 "nbformat_minor": 5
}
