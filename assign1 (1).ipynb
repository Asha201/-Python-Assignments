{
 "cells": [
  {
   "cell_type": "code",
   "execution_count": null,
   "id": "d32ff3f8",
   "metadata": {},
   "outputs": [],
   "source": [
    "ASSIGNMENTN 1\n"
   ]
  },
  {
   "cell_type": "markdown",
   "id": "3fc2fb44",
   "metadata": {},
   "source": [
    "# QUESTION 1. In the below elements which of them are values or an expression? eg:- values can be integer or string and expressions will be mathematical operators.\n",
    "* \n",
    "'hello'\n",
    "-87.8\n",
    "- \n",
    "/ \n",
    "+\t\n",
    "6 \n"
   ]
  },
  {
   "cell_type": "code",
   "execution_count": null,
   "id": "30dee1e0",
   "metadata": {},
   "outputs": [],
   "source": [
    "Ans Values  are \n",
    "'hello' \n",
    "6\n",
    "-87.8\n",
    "*\n",
    "\n",
    "Expression are \n",
    "-\n",
    "/\n",
    "+"
   ]
  },
  {
   "cell_type": "markdown",
   "id": "bfc75a1c",
   "metadata": {},
   "source": [
    "# QUESTION 2. What is the difference between string and variable?"
   ]
  },
  {
   "cell_type": "markdown",
   "id": "dd67b1c2",
   "metadata": {},
   "source": [
    "String is any values or character that is represented by using single or double quotes\n",
    "ex. \"hello\" \"12\" \"81*\" string is a type of variable.\n",
    "\n",
    "\n",
    "Variable can be several types like integer, string, float, complex etc based on the assigned values\n",
    "ex a=19, \n",
    "b= \"happy\"\n",
    "c=23.8 etc.\n"
   ]
  },
  {
   "cell_type": "markdown",
   "id": "e408ffca",
   "metadata": {},
   "source": [
    "# Question 3. Describe three different data types."
   ]
  },
  {
   "cell_type": "markdown",
   "id": "48e6ee64",
   "metadata": {},
   "source": [
    "Python provides various standard data types they are\n",
    "\n",
    "Numbers ,\n",
    "String,\n",
    "List,\n",
    "Tuple and\n",
    "Dictionary\n",
    "\n",
    "Numbers\n",
    "Number is used to store numeric values. Python creates Number objects when a number is assigned to a variable.\n",
    "int – It is used for signed integers like 12, 2, 7, etc.\n",
    "float – It is used to store floating-point numbers like 1.5, 701.89, 15.2, etc.\n",
    "complex – This is used for complex numbers like 2.14j, 2.0 + 2.3j, etc.\n",
    "\n",
    "example: a = 12\n",
    "print(a, \"is of type\", type(a))\n",
    " \n",
    "b = 5.05\n",
    "print(b, \"is of type\", type(b))\n",
    "\n",
    "String\n",
    "A string is defined as a sequence of characters represented in the quotation marks. In python, we can use single, double, or triple quotes to define a string.\n",
    "String handling in python can be done using various inbuilt functions and operators.\n",
    "\n",
    "Example:\n",
    "    \n",
    "str1 = 'Welcome to iNeuron' #string str\n",
    "print (str1[0:3])\n",
    "print (str1[4])\n",
    "\n",
    "\n",
    "List\n",
    "Lists are similar to arrays in C but it can contain different types of data in Python. The items stored in the list are separated with a comma (,) and enclosed within square brackets [].\n",
    "\n",
    "Example:\n",
    "    \n",
    "list = [20, \"welcome\", \"50.6\", 40]\n",
    "print (list[3:]);\n",
    "print (list);\n",
    "\n",
    " \n"
   ]
  },
  {
   "cell_type": "markdown",
   "id": "dfedadc3",
   "metadata": {},
   "source": [
    "# Question 4. What is an expression made up of? What do all expressions do?"
   ]
  },
  {
   "cell_type": "markdown",
   "id": "e4ce4c18",
   "metadata": {},
   "source": [
    "Expression is made up of different numbers, varibles, and opertors and its use PEDMAS Rule.(Parenthesis Exponents Division Multiplication Addition Subtraction)\n",
    "\n",
    "like R=[(a/10)*((a+b)+(b-5)+a)]\n",
    "\n",
    "And all expressions evaluate into a single value i.e R in above expression"
   ]
  },
  {
   "cell_type": "code",
   "execution_count": 2,
   "id": "808b5e13",
   "metadata": {},
   "outputs": [
    {
     "name": "stdout",
     "output_type": "stream",
     "text": [
      "2.0\n",
      "30\n",
      "5\n",
      "55\n",
      "[110.0]\n"
     ]
    }
   ],
   "source": [
    "a,b=20,10\n",
    "\n",
    "R=[(a/10)*((a+b)+(b-5)+a)]\n",
    "\n",
    "print(a/10) #20/10=2 #\n",
    "\n",
    "print(a+b) #20+10=30#\n",
    "\n",
    "print(b-5) #10-5=5#\n",
    "\n",
    "print((a+b)+(b-5)+a) #30+5+20=55#\n",
    "\n",
    "print([(a/10)*((a+b)+(b-5)+a)])"
   ]
  },
  {
   "cell_type": "markdown",
   "id": "ab01ab04",
   "metadata": {},
   "source": [
    "# Question 5. This assignment statements, like spam = 10. What is the difference between an expression and a statement?"
   ]
  },
  {
   "cell_type": "markdown",
   "id": "3e2dca62",
   "metadata": {},
   "source": [
    "A statement is a complete line of code that performs some action, while an expression is any section of the code that evaluates to a value. Expressions can be combined “horizontally” into larger expressions using operators, while statements can only be combined “vertically” by writing one after another, or with block constructs. Every expression can be used as a statement (whose effect is to evaluate the expression and ignore the resulting value), but most statements cannot be used as expressions. \n",
    "\n",
    "Example :Statement\n",
    "\n",
    "assignment_stmt ::=  (target_list \"=\")+ (starred_expression | yield_expression)\n",
    "target_list     ::=  target (\",\" target)* [\",\"]\n",
    "target          ::=  identifier\n",
    "                     | \"(\" [target_list] \")\"\n",
    "                     | \"[\" [target_list] \"]\"\n",
    "                     | attributeref\n",
    "                     | subscription\n",
    "                     | slicing\n",
    "                     | \"*\" target\n",
    "                     \n",
    "Example : Expression \n",
    "\n",
    "assignment_expression ::=  [identifier \":=\"] expression\n",
    "\n",
    "That print is a statement is one of many warts in the Python 2 language that’s corrected in Python 3. Now print is a normal function that can be used in an expression. In case you aren’t using Python 3 yet, we can get this new behavior in Python 2.6 by writing from __future__ import print_function."
   ]
  },
  {
   "cell_type": "markdown",
   "id": "a5ad3fa4",
   "metadata": {},
   "source": [
    "# Question 6 After running the following code, what does the variable bacon contain?\n",
    "bacon = 22\n",
    "bacon + 1\n"
   ]
  },
  {
   "cell_type": "markdown",
   "id": "5465d8ff",
   "metadata": {},
   "source": [
    " For bacon variable 22 is assigned then adding 1 it gives output 23"
   ]
  },
  {
   "cell_type": "code",
   "execution_count": 3,
   "id": "23a122cc",
   "metadata": {},
   "outputs": [],
   "source": [
    "bacon = 22"
   ]
  },
  {
   "cell_type": "code",
   "execution_count": 4,
   "id": "0dc901ce",
   "metadata": {},
   "outputs": [
    {
     "data": {
      "text/plain": [
       "23"
      ]
     },
     "execution_count": 4,
     "metadata": {},
     "output_type": "execute_result"
    }
   ],
   "source": [
    "bacon +1"
   ]
  },
  {
   "cell_type": "markdown",
   "id": "6cfd4e7b",
   "metadata": {},
   "source": [
    "# Question 7. What should the values of the following two terms be?\n",
    "'spam' + 'spamspam'\n",
    "'spam' * 3"
   ]
  },
  {
   "cell_type": "markdown",
   "id": "ae561731",
   "metadata": {},
   "source": [
    "Both give same output in first case  spam and spamspam is addinng and in the second case spam repeating 3 times"
   ]
  },
  {
   "cell_type": "code",
   "execution_count": 5,
   "id": "04bace1c",
   "metadata": {},
   "outputs": [
    {
     "data": {
      "text/plain": [
       "'spamspamspam'"
      ]
     },
     "execution_count": 5,
     "metadata": {},
     "output_type": "execute_result"
    }
   ],
   "source": [
    "'spam' + 'spamspam'"
   ]
  },
  {
   "cell_type": "code",
   "execution_count": 6,
   "id": "a46bc38f",
   "metadata": {},
   "outputs": [
    {
     "data": {
      "text/plain": [
       "'spamspamspam'"
      ]
     },
     "execution_count": 6,
     "metadata": {},
     "output_type": "execute_result"
    }
   ],
   "source": [
    "'spam' * 3"
   ]
  },
  {
   "cell_type": "markdown",
   "id": "c9a71440",
   "metadata": {},
   "source": [
    "# Question 8. Why is eggs a valid variable name while 100 is invalid?"
   ]
  },
  {
   "cell_type": "markdown",
   "id": "902bb595",
   "metadata": {},
   "source": [
    "Because we can't start giving variable an integer name. If we, we should begin with, a string-like alphabet name then integer. e100 or eggs100 is valid\n",
    "\n",
    "Some rules which we have to follow like<br> 1.varible can only start with string or it can be follow by underscore(_) like _eggs\n",
    "\n",
    "can't start with number but it can be follow by string like eggs100\n",
    "can't be a keyword like while , for , is , True,print,else or etc\n",
    "can't contains symbol like @,#,%,$ , but can contain _\n",
    "no space between varible for space purpose we can use _ like eggs_100\n"
   ]
  },
  {
   "cell_type": "markdown",
   "id": "e79aac4f",
   "metadata": {},
   "source": [
    "# Question 9. What three functions can be used to get the integer, floating-point number, or string version of a value?"
   ]
  },
  {
   "cell_type": "markdown",
   "id": "2181ce3b",
   "metadata": {},
   "source": [
    " We can use int() for integer\n",
    "    float() for flaoting point number\n",
    "    str() for string"
   ]
  },
  {
   "cell_type": "markdown",
   "id": "6e6e64df",
   "metadata": {},
   "source": [
    "# Question 10. Why does this expression cause an error? How can you fix it?\n",
    "'I have eaten ' + 99 + ' burritos.'"
   ]
  },
  {
   "cell_type": "markdown",
   "id": "e5975bf5",
   "metadata": {},
   "source": [
    " Because 99 is an integer it cannot be concatenated with strings, if we have to concatenate it we need to do typecasting.\n",
    " 'I have eaten ' \"+ 99 +\" ' burritos.' now it will not show error because by using single or double quote integer become string.\n"
   ]
  }
 ],
 "metadata": {
  "kernelspec": {
   "display_name": "Python 3 (ipykernel)",
   "language": "python",
   "name": "python3"
  },
  "language_info": {
   "codemirror_mode": {
    "name": "ipython",
    "version": 3
   },
   "file_extension": ".py",
   "mimetype": "text/x-python",
   "name": "python",
   "nbconvert_exporter": "python",
   "pygments_lexer": "ipython3",
   "version": "3.9.12"
  }
 },
 "nbformat": 4,
 "nbformat_minor": 5
}
